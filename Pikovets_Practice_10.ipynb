{
 "cells": [
  {
   "cell_type": "markdown",
   "metadata": {
    "id": "FMqboNwO4rVs"
   },
   "source": [
    "# **Курс \"Програмування на мові Python\"**"
   ]
  },
  {
   "cell_type": "markdown",
   "metadata": {
    "id": "A2T6MigL5Z06"
   },
   "source": [
    "## **Практичне зайняття №10**\n",
    "\n",
    "### Тема: \"Лямбда-функції. Функції вищих порядків\""
   ]
  },
  {
   "cell_type": "markdown",
   "metadata": {
    "id": "cfCdgK2zXm7e"
   },
   "source": [
    "### **Завдання 1 (1 бал)**\n",
    "\n",
    "Продавець роздрібного товару влаштовує розпродаж. Для всіх товарів знижка однакова - 60%. Щоб вивісити нові цінники, продавець хоче скласти таблицю, в якій для кожного товару буде підрахована його нова вартість та сума знижки.\n",
    "\n",
    "Написати програму, яка буде генерувати таку таблицю. Вартість одиниць товарів до розпродажу подано у списку products_list. \n",
    "\n",
    "1. Для підрахунку невідомих значень повинні використовуватись вбудовані функції вищих порядків.\n",
    "\n",
    "2. Вартість з урахуванням знижки та суми знижок для кожного товару повинні зберігатись у двох окремих списках. Порядок товарів у нових списках повинен бути такий самий, як і в списку products_list.\n",
    "\n",
    "3. Кожне підраховане числове значення має бути округлене до сотих.\n",
    "\n",
    "4. Дані повинні виводитись у вигляді:\n",
    "\n",
    "**Discount table:**\n",
    "\n",
    "**15.89 6.36 9.53**\n",
    "\n",
    "**39.99 16.0 23.99**\n",
    "\n",
    "**...**\n",
    "\n",
    "\n",
    "products_list = [15.89, 39.99, 82.10, 135.85, 318.90, 510.00, 799.98]"
   ]
  },
  {
   "cell_type": "code",
   "execution_count": 11,
   "metadata": {
    "id": "ifNX2M7LXm7f"
   },
   "outputs": [
    {
     "name": "stdout",
     "output_type": "stream",
     "text": [
      "Discount table: \n",
      "15.89   6.36    9.53\n",
      "39.99   16.0    23.99\n",
      "82.1    32.84   49.26\n",
      "135.85  54.34   81.51\n",
      "318.9   127.56  191.34\n",
      "510.0   204.0   306.0\n",
      "799.98  319.99  479.99\n"
     ]
    }
   ],
   "source": [
    "products_list = [15.89, 39.99, 82.10, 135.85, 318.90, 510.00, 799.98]\n",
    "\n",
    "prices_with_discount = list(map(lambda price: round(price*0.4, 2), products_list))\n",
    "discounts = list(map(lambda price: round(price*0.6, 2), products_list))\n",
    "\n",
    "print(\"Discount table: \")\n",
    "for i in range(len(products_list)):\n",
    "    print(f\"{products_list[i]:<7} {prices_with_discount[i]:<7} {discounts[i]}\")"
   ]
  },
  {
   "cell_type": "markdown",
   "metadata": {},
   "source": [
    "### **Завдання 2 (2 бали)**\n",
    "\n",
    "Зазвичай рік має 365 днів. Однак у високосні роки додається ще один день - 29 лютого. Правила визначення високосного року такі:\n",
    "\n",
    "- Будь-який рік, що ділиться на 400 - високосний.\n",
    "\n",
    "- З тих років, що залишились, будь-який рік, що ділиться на 100 - **не** високосний.\n",
    "\n",
    "- З тих років, що залишились, будь-який рік, що ділиться на 4 - високосний.\n",
    "\n",
    "- Усі інші роки, що залишились - **не** високосні.\n",
    "\n",
    "1) Створіть функцію, в якій за допомогою вбудованих функцій вищих порядків будуть визначатися високосні роки серед перелічених років у списку years. Створена функція має повертати список високосних років.\n",
    "\n",
    "2) Створіть функцію вищих порядків, яка прийматиме на вхід попередню функцію та визначатиме кількість днів у місяці. Також функція повинна приймати на вхід ще 2 параметри: ціле число від 1 до 12 (місяць) та рік, як ціле чотирицифрове число. Ці значення корисувач має вводити з клавіатури. Перевірку введених даних слід виконувати поза межами функцій."
   ]
  },
  {
   "cell_type": "code",
   "execution_count": 21,
   "metadata": {},
   "outputs": [
    {
     "name": "stdout",
     "output_type": "stream",
     "text": [
      "Leap years: \n",
      "[1904, 1908, 1912, 1916, 1920, 1924, 1928, 1932, 1936, 1940, 1944, 1948, 1952, 1956, 1960, 1964, 1968, 1972, 1976, 1980, 1984, 1988, 1992, 1996, 2000, 2004, 2008, 2012, 2016, 2020]\n",
      "\n",
      "Enter the month: 2\n",
      "Enter the year: 1900\n",
      "The are 28 days in the 2 month of the 1900 year\n"
     ]
    }
   ],
   "source": [
    "import numpy as np\n",
    "\n",
    "def leap_years(years):\n",
    "    return list(filter(\n",
    "        lambda year: (year % 400 == 0) or ((year % 4 == 0) and (year % 100 != 0)), \n",
    "        years))\n",
    "\n",
    "def days_in_month(leap_years_func, month, year):\n",
    "    day_count_dict_1 = {\n",
    "        1 : 31,\n",
    "        2 : 29,\n",
    "        3 : 31,\n",
    "        4 : 30,\n",
    "        5 : 31,\n",
    "        6 : 30,\n",
    "        7 : 31,\n",
    "        8 : 31,\n",
    "        9 : 30,\n",
    "        10 : 31,\n",
    "        11 : 30,\n",
    "        12 : 31,\n",
    "    }\n",
    "    day_count_dict_2 = day_count_dict_1.copy()\n",
    "    day_count_dict_2[2] = 28\n",
    "\n",
    "    if len(leap_years_func([year])) == 1:\n",
    "        return day_count_dict_1[month]\n",
    "    else:\n",
    "        return day_count_dict_2[month]\n",
    "\n",
    "years = np.arange(1900, 2020+1, 1)\n",
    "print(f\"Leap years: \\n{leap_years(years)}\\n\")\n",
    "\n",
    "\n",
    "month = -1\n",
    "year = -1\n",
    "try:\n",
    "    month = int(input('Enter the month: '))\n",
    "    if (month < 1) or (month > 12):\n",
    "        raise ZeroDivisionError('Month must be a number from 1 to 12!')\n",
    "    year = int(input('Enter the year: '))\n",
    "    if (year < 1000) or (year > 9999):\n",
    "        raise ZeroDivisionError('Year must be a number from 1000 to 9999')\n",
    "except ZeroDivisionError as e:\n",
    "    print(e)\n",
    "except:\n",
    "    print(\"Incorrect input\")\n",
    "else:\n",
    "    print(f\"The are {days_in_month(leap_years, month, year)} days in the {month} month of the {year} year\")"
   ]
  },
  {
   "cell_type": "code",
   "execution_count": null,
   "metadata": {},
   "outputs": [],
   "source": []
  }
 ],
 "metadata": {
  "colab": {
   "collapsed_sections": [],
   "name": "Practice_7_KM-01_.ipynb",
   "provenance": []
  },
  "kernelspec": {
   "display_name": "Python 3 (ipykernel)",
   "language": "python",
   "name": "python3"
  },
  "language_info": {
   "codemirror_mode": {
    "name": "ipython",
    "version": 3
   },
   "file_extension": ".py",
   "mimetype": "text/x-python",
   "name": "python",
   "nbconvert_exporter": "python",
   "pygments_lexer": "ipython3",
   "version": "3.9.12"
  }
 },
 "nbformat": 4,
 "nbformat_minor": 1
}
