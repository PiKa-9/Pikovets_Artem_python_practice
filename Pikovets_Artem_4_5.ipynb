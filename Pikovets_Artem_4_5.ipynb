{
 "cells": [
  {
   "cell_type": "markdown",
   "metadata": {
    "id": "1bRxWHr5e8kt"
   },
   "source": [
    "# **Курс \"Програмування на мові Python\"**"
   ]
  },
  {
   "cell_type": "markdown",
   "metadata": {
    "id": "buZUwUgFe-kx"
   },
   "source": [
    "## **Практичні зайняття №4-5**\n",
    "### Тема: \"Перші програми на Python. Введення та виведення даних. Інструкція if. Цикли. Робота зі списками\""
   ]
  },
  {
   "cell_type": "markdown",
   "metadata": {
    "id": "PUkxEn8EfAUe"
   },
   "source": [
    "### **Завдання 1 (1,5 бали)**\n",
    "\n"
   ]
  },
  {
   "cell_type": "markdown",
   "metadata": {
    "id": "M7jjwxAvfKa2"
   },
   "source": [
    "**Написати програму введення та виведення даних про одержувача листа (посилки) за стандартами Укрпошти.**\n",
    "\n",
    "1. Усі запити на введення даних повинні супроводжуватись відповідними підказками-поясненнями (бажано англійською мовою).\n",
    "\n",
    "2. Дані мають виводитись так, як показано нижче (з урахуванням кількості рядків та послідовності даних у кожному з них).\n",
    "\n",
    "3. Дані, виділені жирним шрифтом, повинні вводитись із клавіатури. Всього має бути 9 окремих команд введення даних\n",
    "\n",
    "4. Назви змінних повинні бути інформативними та оформленими відповідно до правил іменування змінних\n",
    "\n",
    "5. Додати 2 коментарі, що вказують на блоки введення та виведення даних.\n",
    "\n",
    "***Формат виведення даних:***\n",
    "\n",
    "(1) **Ім'я** (2) **Прізвище**\n",
    "\n",
    "(3) **Номер телефону**\n",
    "\n",
    "Str. (4) **Назва вулиці** (5) **Номер будинку**, ap. (6) **Номер квартири**, (7) **Місто**\n",
    "\n",
    "(8) **Індекс**\n",
    "\n",
    "(9) **Країна**\n",
    "\n",
    "***Приклад виведення:***\n",
    "\n",
    "*Lucas Diallo*\n",
    "\n",
    "*3221234567*\n",
    "\n",
    "*Str. Longue 3, ap. 5, Bruxelles*\n",
    "\n",
    "*1020*\n",
    "\n",
    "*Belgium*"
   ]
  },
  {
   "cell_type": "code",
   "execution_count": 6,
   "metadata": {
    "id": "hEJG5C3_fJk9"
   },
   "outputs": [
    {
     "name": "stdout",
     "output_type": "stream",
     "text": [
      "Enter name: Lucas\n",
      "Enter surname: Diallo\n",
      "Enter phone number: 3221234567\n",
      "Enter street name: Longue\n",
      "Enter house number: 3\n",
      "Enter apartment number: 5\n",
      "Enter city name: Bruxelles\n",
      "Enter zip code: 1020\n",
      "Enter country name: Belgium\n",
      "Lucas Diallo\n",
      "3221234567\n",
      "Str. Longue 3, ap. 5, Bruxelles\n",
      "1020\n",
      "Belgium\n"
     ]
    }
   ],
   "source": [
    "# data entry:\n",
    "name = input(\"Enter name: \")\n",
    "\n",
    "surname = input(\"Enter surname: \")\n",
    "\n",
    "phone_num = input(\"Enter phone number: \")\n",
    "\n",
    "street = input(\"Enter street name: \")\n",
    "\n",
    "house = input(\"Enter house number: \")\n",
    "\n",
    "apartment = input(\"Enter apartment number: \")\n",
    "\n",
    "city = input(\"Enter city name: \")\n",
    "\n",
    "zip_code = input(\"Enter zip code: \")\n",
    "\n",
    "country = input(\"Enter country name: \")\n",
    "\n",
    "# data output: \n",
    "print(\n",
    "f\"\"\"{name} {surname}\n",
    "{phone_num}\n",
    "Str. {street} {house}, ap. {apartment}, {city}\n",
    "{zip_code}\n",
    "{country}\"\"\"\n",
    ")"
   ]
  },
  {
   "cell_type": "markdown",
   "metadata": {
    "id": "WmnpKrmPf689"
   },
   "source": [
    "# **Завдання 2 (1,5 бали)**"
   ]
  },
  {
   "cell_type": "markdown",
   "metadata": {
    "id": "4n4p_pz7gFKM"
   },
   "source": [
    "Таблиця містить магнітуду землетрусів за шкалою Ріхтера та дескриптори, що їй відповідають.\n",
    "\n",
    "Магнітуда | Дескриптор\n",
    "--- | ---\n",
    "Менше, ніж 2 | Micro\n",
    "Від 2 до менше ніж 3 | Very minor\n",
    "Від 3 до менше ніж 4 | Minor\n",
    "Від 4 до менше ніж 5 | Light\n",
    "Від 5 до менше ніж 6 | Moderate\n",
    "Від 6 до менше ніж 7 | Strong\n",
    "Від 7 до менше ніж 8 | Major\n",
    "Від 8 до менше ніж 10 | Great\n",
    "10 та більше | Meteoric\n",
    "\n",
    "Напишіть програму, яка буде зчитувати магнітуду, введену користувачем, та виводити відповідний дескриптор як частину змістовного повідомлення. Наприклад, якщо користувач вводить 5.5, ваша програма повинна показати, що землетрус з такою магнітудою є помірним (moderate)."
   ]
  },
  {
   "cell_type": "code",
   "execution_count": 5,
   "metadata": {},
   "outputs": [
    {
     "name": "stdout",
     "output_type": "stream",
     "text": [
      "Enter the magnitude: 5.5\n",
      "Moderate\n"
     ]
    }
   ],
   "source": [
    "magnitude = float(input(\"Enter the magnitude: \"))\n",
    "\n",
    "if magnitude < 2:\n",
    "    print('Micro')\n",
    "elif magnitude < 3:\n",
    "    print('Very Minor')\n",
    "elif magnitude < 4:\n",
    "    print('Minor')\n",
    "elif magnitude < 5:\n",
    "    print('Light')\n",
    "elif magnitude < 6:\n",
    "    print('Moderate')\n",
    "elif magnitude < 7:\n",
    "    print('Strong')\n",
    "elif magnitude < 8:\n",
    "    print('Major')\n",
    "elif magnitude < 10:\n",
    "    print('Great')\n",
    "else:\n",
    "    print('Meteoric')"
   ]
  },
  {
   "cell_type": "markdown",
   "metadata": {
    "id": "X8fC_GM_nMRi"
   },
   "source": [
    "### **Завдання 3 (бонусне, 1 бал)**"
   ]
  },
  {
   "cell_type": "markdown",
   "metadata": {
    "id": "b593txPwotgN"
   },
   "source": [
    "Мобільний оператор розробив тарифний план, згідно з яким, сплачуючи 100 грн. на місяць, абонент може спілкуватись 50 хвилин з абонентами інших мобільних операторів впродовж цього місяця. У разі перевищення ліміту абоненту надаються ще 50 хвилин до кінця місяця за 50 грн. Якщо ж і цей ліміт було перевищено, абонент сплачуватиме 2 грн. за кожну додаткову хвилину розмов до кінця поточного місяця.\n",
    "\n",
    "Напишіть програму, що підраховує суму коштів, яку доведеться сплатити абоненту за місяць, на основі тривалості його розмов з абонентами інших мобільних операторів (у хвилинах), введеної користувачем з клавіатури. Ваша програма також повинна виводити повідомлення про помилку, якщо користувач введе від'ємне число."
   ]
  },
  {
   "cell_type": "code",
   "execution_count": 4,
   "metadata": {
    "id": "PA_E_H0Zosu0"
   },
   "outputs": [
    {
     "name": "stdout",
     "output_type": "stream",
     "text": [
      "Enter the total (in minutes) of call durations: One\n",
      "Incorrect input! Please, try again.\n",
      "Enter the total (in minutes) of call durations: -1\n",
      "The input should be a non-negative number! Please, try again.\n",
      "Enter the total (in minutes) of call durations: 123\n",
      "\n",
      "Total cost: 196 hryvnias\n"
     ]
    }
   ],
   "source": [
    "duration = 0\n",
    "end = False\n",
    "\n",
    "while (not end):\n",
    "    try:\n",
    "        duration = int(input(\"Enter the total (in minutes) of call durations: \"))\n",
    "    except:\n",
    "        print('Incorrect input! Please, try again.')\n",
    "    else:\n",
    "        if duration >= 0:\n",
    "            end = True\n",
    "        else:\n",
    "            print(\"The input should be a non-negative number! Please, try again.\")\n",
    "\n",
    "\n",
    "result = 100\n",
    "if duration > 50:\n",
    "    result += 50\n",
    "    if duration > 50 + 50:\n",
    "        result += (duration - 100) * 2\n",
    "\n",
    "print(f\"\\nTotal cost: {result} hryvnias\")"
   ]
  },
  {
   "cell_type": "markdown",
   "metadata": {},
   "source": [
    "### **Завдання 4 (1,5 бали)**"
   ]
  },
  {
   "cell_type": "markdown",
   "metadata": {},
   "source": [
    "Продавець роздрібного товару влаштовує розпродаж. Для всіх товарів знижка однакова - 60%. Щоб вивісити нові цінники, продавець хоче скласти таблицю, в якій для кожного товару буде підрахована його нова вартість та сума знижки.\n",
    "\n",
    "Написати програму, яка буде генерувати таку таблицю. Вартість одиниць товарів до розпродажу подано у списку products_list. \n",
    "\n",
    "1. Для підрахунку невідомих значень та їх виведення повинен використовуватись цикл.\n",
    "\n",
    "2. Вартість з урахуванням знижки та суми знижок для кожного товару повинні зберігатись у двох окремих списках. Порядок товарів у нових списках повинен бути такий самий, як і в списку products_list.\n",
    "\n",
    "3. Кожне підраховане числове значення має бути округлене до сотих. Для цього слід використати функцію round(). Приклад застосування цієї функції:\n",
    "\n",
    "```\n",
    "value_new = round(2.3741, 2)\n",
    "print(value_new)\n",
    "```\n",
    "\n",
    "4. Дані повинні виводитись у вигляді:\n",
    "\n",
    "**Discount table:**\n",
    "\n",
    "**29.25 11.7 17.55**\n",
    "\n",
    "**48.99 19.6 29.39**\n",
    "\n",
    "**...**\n",
    "\n",
    "\n",
    "products_list = [29.25, 48.99, 99.98, 124.65, 214.30, 543.90, 799.85]"
   ]
  },
  {
   "cell_type": "code",
   "execution_count": 16,
   "metadata": {},
   "outputs": [
    {
     "name": "stdout",
     "output_type": "stream",
     "text": [
      "29.25 11.7 17.55\n",
      "48.99 19.6 29.39\n",
      "99.98 39.99 59.99\n",
      "124.65 49.86 74.79\n",
      "214.3 85.72 128.58\n",
      "543.9 217.56 326.34\n",
      "799.85 319.94 479.91\n"
     ]
    }
   ],
   "source": [
    "products_list = [29.25, 48.99, 99.98, 124.65, 214.30, 543.90, 799.85]\n",
    "new_prices = []\n",
    "discount_sum = []\n",
    "\n",
    "for i, price in enumerate(products_list):\n",
    "    new_prices.append(round(price * 0.4, 2))\n",
    "    discount_sum.append(round(price * 0.6, 2))\n",
    "    \n",
    "    print(products_list[i], new_prices[i], discount_sum[i])"
   ]
  },
  {
   "cell_type": "markdown",
   "metadata": {},
   "source": [
    "### **Завдання 5 (1,5 бали)**"
   ]
  },
  {
   "cell_type": "markdown",
   "metadata": {},
   "source": [
    "Перелічуючи деякі предмети у тексті, ми ставимо між ними коми. В англійській мові слово and зазвичай ставлять між останнім та передостаннім словом у переліку (за виключенням випадку, коли у списку всього одне слово). Також в англійській мові прийнято ставити кому перед and (оксфордська кома), якщо в переліку більше двох найменувань. Розглянемо 4 приклади:\n",
    "\n",
    "**apples**\n",
    "\n",
    "**apples and oranges**\n",
    "\n",
    "**apples, oranges, and bananas**\n",
    "\n",
    "**apples, oranges, bananas, and lemons**\n",
    "\n",
    "Напишіть програму, яка:\n",
    "\n",
    "1. отримує на вхід перелік деяких предметів, які користувач вводить з клавіатури, та записує їх у список у вигляді окремих елементів;\n",
    "\n",
    "2. виводить ці предмети у тій самій послідовності, в якій вони були введені, розставляючи коми та слово and так, як показано у прикладі."
   ]
  },
  {
   "cell_type": "code",
   "execution_count": 25,
   "metadata": {},
   "outputs": [
    {
     "name": "stdout",
     "output_type": "stream",
     "text": [
      "apple orange banana\n",
      "apple, orange, and banana\n"
     ]
    }
   ],
   "source": [
    "my_list = list(input().split())\n",
    "\n",
    "if len(my_list) == 1:\n",
    "    print(my_list[0])\n",
    "elif len(my_list) == 2:\n",
    "    print(my_list[0], my_list[1], sep = \" and \")\n",
    "else:\n",
    "    for ele in my_list[:-1]:\n",
    "        print(ele, end = \", \")\n",
    "    \n",
    "    print(f\"and {my_list[-1]}\")"
   ]
  }
 ],
 "metadata": {
  "colab": {
   "collapsed_sections": [],
   "name": "Pranctice_3_KM-01_<name>.ipynb",
   "provenance": []
  },
  "kernelspec": {
   "display_name": "Python 3 (ipykernel)",
   "language": "python",
   "name": "python3"
  },
  "language_info": {
   "codemirror_mode": {
    "name": "ipython",
    "version": 3
   },
   "file_extension": ".py",
   "mimetype": "text/x-python",
   "name": "python",
   "nbconvert_exporter": "python",
   "pygments_lexer": "ipython3",
   "version": "3.9.12"
  },
  "vscode": {
   "interpreter": {
    "hash": "26de051ba29f2982a8de78e945f0abaf191376122a1563185a90213a26c5da77"
   }
  }
 },
 "nbformat": 4,
 "nbformat_minor": 2
}
