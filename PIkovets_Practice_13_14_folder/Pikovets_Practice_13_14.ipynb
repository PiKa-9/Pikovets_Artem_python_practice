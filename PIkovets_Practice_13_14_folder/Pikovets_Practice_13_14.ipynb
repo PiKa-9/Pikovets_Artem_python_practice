{
 "cells": [
  {
   "cell_type": "markdown",
   "metadata": {
    "id": "FMqboNwO4rVs"
   },
   "source": [
    "# **Курс \"Програмування на мові Python\"**"
   ]
  },
  {
   "cell_type": "markdown",
   "metadata": {
    "id": "A2T6MigL5Z06"
   },
   "source": [
    "## **Практичні зайняття №13-14**\n",
    "\n",
    "### Тема: \"Робота з файлами. Робота зі спеціальними форматами файлів\""
   ]
  },
  {
   "cell_type": "markdown",
   "metadata": {
    "id": "cfCdgK2zXm7e"
   },
   "source": [
    "### **Завдання 1 (1,5 бали)**\n",
    "\n",
    "У 1939 році друком вийшов роман американського письменика Ернеста Вінсента Райта \"Ґетсбі\". Особливу увагу публіки він здобув через те, що письменник жодного разу не використав у романі літеру \"e\" (роман складається з більше ніж 50,000 слів), яка є найбільш вживаною літерою в англійській мові.\n",
    "\n",
    "Порахуйте кількість входжень кожної літери у текст роману. Виведіть список літер англійського алфавіту, а також інформацію про те, скільки відсотків від усіх літер тексту складає кожна літера алфавіту.\n",
    "\n",
    "Зауваження:\n",
    "\n",
    "1. Програма має ігнорувати будь-які символи, окрім літер.\n",
    "\n",
    "2. Переведіть усі літери у верхній або у нижній регістр.\n",
    "\n",
    "3. Під час виведення відсортуйте літери у порядку зменшення їхнього відсотка. Літера \"e\" має стояти на останньому місці у цьому списку (хоча кілька літер e там все ж таки зустрічається).\n",
    "\n",
    "4. Виведіть перші 5 та останні 5 літер відсортованого списку разом з відсотковими значеннями, що їм відповідають. Відсотки округліть до тисячних."
   ]
  },
  {
   "cell_type": "code",
   "execution_count": 40,
   "metadata": {
    "id": "u4-fHJJ6U462",
    "tags": []
   },
   "outputs": [
    {
     "name": "stdout",
     "output_type": "stream",
     "text": [
      "a - 10.952%\n",
      "o - 10.419%\n",
      "i - 8.825%\n",
      "n - 8.597%\n",
      "t - 8.494%\n",
      "...\n",
      "j - 0.23%\n",
      "z - 0.107%\n",
      "x - 0.079%\n",
      "q - 0.051%\n",
      "e - 0.002%\n"
     ]
    }
   ],
   "source": [
    "import string\n",
    "\n",
    "f = open('gadsby.txt', 'r')\n",
    "\n",
    "letter_dict = dict([(letter, 0) for letter in string.ascii_lowercase])\n",
    "# letter_dict: {'a': 0, 'b': 0, ..., 'z': 0}\n",
    "\n",
    "\n",
    "for line in f:\n",
    "    for ele in line[:-1].lower():\n",
    "        if ele in letter_dict.keys():\n",
    "            letter_dict[ele] += 1\n",
    "\n",
    "f.close()\n",
    "\n",
    "all_letters_count = sum(letter_dict.values())\n",
    "letter_dict = sorted(letter_dict.items(), key = lambda x: -x[1])\n",
    "\n",
    "for letter, count in letter_dict[:5]:\n",
    "    percent = round(100 * count/all_letters_count, 3)\n",
    "    print(f\"{letter} - {percent}%\")\n",
    "\n",
    "print('...')\n",
    "\n",
    "for letter, count in letter_dict[-5:]:\n",
    "    percent = round(100 * count/all_letters_count, 3)\n",
    "    print(f\"{letter} - {percent}%\")\n"
   ]
  },
  {
   "cell_type": "markdown",
   "metadata": {
    "id": "A34oz70eU463"
   },
   "source": [
    "### **Завдання 2 (1,5 бали)**\n",
    "\n",
    "Архів archive.zip містить 140 txt-файлів, в яких збережено інфорамцію про те, якими іменами називали дітей у США в період з 1880 по 2019 рік.\n",
    "\n",
    "Структура рядка кожного файлу така:\n",
    "\n",
    "*name,sex,number_of_occurrences*\n",
    "\n",
    "Напишіть програму, яка зчитуватиме кожен файл та визначатиме окремо чоловічі, окремо жіночі імена, що були найпопулярнішими хоча б в один з років. Далі програма повинна підраховувати, скільки разів кожне з цих імен ставало найпопулярнишим, та виводити ранжовані списки чоловічіх та жіночих імен у вигляді:\n",
    "\n",
    "```\n",
    "Michael 44\n",
    "John 44\n",
    "Robert 17\n",
    "...\n",
    "\n",
    "Mary 76\n",
    "Jennifer 15\n",
    "Emily 12\n",
    "...\n",
    "```"
   ]
  },
  {
   "cell_type": "code",
   "execution_count": 58,
   "metadata": {},
   "outputs": [
    {
     "name": "stdout",
     "output_type": "stream",
     "text": [
      "John 44\n",
      "Michael 44\n",
      "Robert 17\n",
      "Jacob 14\n",
      "James 13\n",
      "Noah 4\n",
      "Liam 3\n",
      "David 1\n",
      "\n",
      "Mary 76\n",
      "Jennifer 15\n",
      "Emily 12\n",
      "Jessica 9\n",
      "Lisa 8\n",
      "Emma 6\n",
      "Linda 6\n",
      "Sophia 3\n",
      "Ashley 2\n",
      "Isabella 2\n",
      "Olivia 1\n"
     ]
    }
   ],
   "source": [
    "import zipfile\n",
    "import re\n",
    "\n",
    "with zipfile.ZipFile('archive.zip') as zip_folder:\n",
    "    popular_male_names = {}\n",
    "    popular_female_names = {}\n",
    "    \n",
    "    for filename in zip_folder.namelist():\n",
    "        if filename[-4:] == '.txt':\n",
    "            male_names = {}\n",
    "            female_names = {}\n",
    "            \n",
    "            f = zip_folder.open(filename)\n",
    "            for line in f.readlines():\n",
    "                decoded_line = line.decode(encoding = \"utf-8\")\n",
    "                \n",
    "                values = re.split(r' |,|\\n', decoded_line)\n",
    "                name = values[0]\n",
    "                sex = values[1]\n",
    "                cnt = int(values[2])\n",
    "                \n",
    "                if sex == 'M':\n",
    "                    male_names[name] = cnt\n",
    "                elif sex == 'F':\n",
    "                    female_names[name] = cnt\n",
    "            \n",
    "\n",
    "            male_names = list(sorted(male_names.items(), key = lambda x: -x[1]))\n",
    "            popular_male = male_names[0][0]\n",
    "            female_names = list(sorted(female_names.items(), key = lambda x: -x[1]))\n",
    "            popular_female = female_names[0][0]\n",
    "            \n",
    "            popular_male_names[popular_male] = popular_male_names.get(popular_male, 0) + 1\n",
    "            popular_female_names[popular_female] = popular_female_names.get(popular_female, 0) + 1\n",
    "                \n",
    "            \n",
    "            f.close()\n",
    "    # popular_male_names.keys(), popular_female_names.keys() - names, which become the most popular at least ones\n",
    "    popular_male_names = sorted(popular_male_names.items(), key = lambda x: (-x[1], x[0]))\n",
    "    popular_female_names = sorted(popular_female_names.items(), key = lambda x: (-x[1], x[0]))\n",
    "    \n",
    "    for name, cnt in popular_male_names:\n",
    "        print(name, cnt)\n",
    "    \n",
    "    print()\n",
    "    for name, cnt in popular_female_names:\n",
    "        print(name, cnt)\n",
    "    "
   ]
  },
  {
   "cell_type": "code",
   "execution_count": 65,
   "metadata": {},
   "outputs": [
    {
     "name": "stdout",
     "output_type": "stream",
     "text": [
      "355149899\n",
      "[(1993, 5), (1996, 5), (1997, 5), (1998, 9), (2001, 7), (2002, 18), (2003, 16), (2004, 20), (2005, 24), (2006, 26), (2007, 35), (2008, 41), (2009, 30), (2010, 39), (2011, 44), (2012, 42), (2013, 47), (2014, 52), (2015, 48), (2016, 50), (2017, 58), (2018, 52), (2019, 59)]\n"
     ]
    }
   ],
   "source": [
    "import zipfile\n",
    "import re\n",
    "\n",
    "with zipfile.ZipFile('archive.zip') as zip_folder:\n",
    "    child_amount = 0\n",
    "    artems = []\n",
    "    \n",
    "    for filename in zip_folder.namelist():\n",
    "        if filename[-4:] == '.txt':\n",
    "\n",
    "            f = zip_folder.open(filename)\n",
    "            for line in f.readlines():\n",
    "                decoded_line = line.decode(encoding = \"utf-8\")\n",
    "                \n",
    "                values = re.split(r' |,|\\n', decoded_line)\n",
    "                name = values[0]\n",
    "                sex = values[1]\n",
    "                cnt = int(values[2])\n",
    "                \n",
    "                child_amount += cnt\n",
    "                \n",
    "                if name == 'Artem':\n",
    "                    artems.append((int(f.name[3:7]), cnt))\n",
    "            \n",
    "                \n",
    "            \n",
    "            f.close()\n",
    "    \n",
    "    print(child_amount) #though without those, whose name count < 5\n",
    "    print(artems)"
   ]
  },
  {
   "cell_type": "markdown",
   "metadata": {},
   "source": [
    "### **Завдання 3 (1,5 бали)**\n",
    "\n",
    "Створіть CSV-файл, що буде містити від 5 до 10 пісень (творів) вашого улюбленого музиканта. Назва файлу - ім'я музиканта (композитора) або назва гурту.\n",
    "\n",
    "1. Обов'язково додайте до файлу рядок з назвами двох колонок (Song, Year) або (Composition, Year).\n",
    "\n",
    "2. Після запису файлу роздрукуйте назву файлу та усі наявні у файлі рядки (включно із заголовками).\n",
    "\n",
    "3. Для запису та зчитування рядків скористайтесь функціями csv.DictWriter() та csv.DictReader()."
   ]
  },
  {
   "cell_type": "code",
   "execution_count": 51,
   "metadata": {},
   "outputs": [
    {
     "name": "stdout",
     "output_type": "stream",
     "text": [
      "Sector Gaza.csv\n",
      "Song         Year         \n",
      "--------------------\n",
      "Lirika       1993        \n",
      "Bomzh        1994        \n",
      "30 Let       1996        \n",
      "Life         1996        \n",
      "Tvoy Zvonok  1996        \n",
      "Tuman        1996        \n",
      "Pora Domoy   1997        \n"
     ]
    }
   ],
   "source": [
    "import csv\n",
    "\n",
    "f = open('Sector Gaza.csv', 'w', newline = '')\n",
    "\n",
    "writer = csv.DictWriter(f, fieldnames = ['Song', 'Year'])\n",
    "\n",
    "writer.writeheader()\n",
    "writer.writerow({\n",
    "    'Song': 'Lirika',\n",
    "    'Year': '1993',\n",
    "})\n",
    "writer.writerow({\n",
    "    'Song': 'Bomzh',\n",
    "    'Year': '1994',\n",
    "})\n",
    "writer.writerow({\n",
    "    'Song': '30 Let',\n",
    "    'Year': '1996',\n",
    "})\n",
    "writer.writerow({\n",
    "    'Song': 'Life',\n",
    "    'Year': '1996',\n",
    "})\n",
    "writer.writerow({\n",
    "    'Song': 'Tvoy Zvonok',\n",
    "    'Year': '1996',\n",
    "})\n",
    "writer.writerow({\n",
    "    'Song': 'Tuman',\n",
    "    'Year': '1996',\n",
    "})\n",
    "writer.writerow({\n",
    "    'Song': 'Pora Domoy',\n",
    "    'Year': '1997',\n",
    "})\n",
    "\n",
    "f.close()\n",
    "\n",
    "\n",
    "f = open('Sector Gaza.csv', 'r')\n",
    "print(f.name)\n",
    "\n",
    "reader = csv.DictReader(f)\n",
    "\n",
    "for col in reader.fieldnames:\n",
    "    print(f\"{col:12}\", end = ' ')\n",
    "\n",
    "print('\\n', '-'*20, sep = '')\n",
    "\n",
    "for row in reader:\n",
    "    print(f\"{row['Song']:12} {row['Year']:12}\")\n",
    "\n",
    "f.close()"
   ]
  },
  {
   "cell_type": "markdown",
   "metadata": {},
   "source": [
    "### **Завдання 4 (1,5 бали)**\n",
    "\n",
    "COCO Dataset - набір фотографій та анотацій до них. Його дуже часто використовують для тренування класифікаторів, призначених для розпізнавання об'єктів та визначення ключових точок на зображеннях.\n",
    "\n",
    "Завантажте файли з описом фотографій COCO Dataset за посиланням: [COCO Dataset](http://images.cocodataset.org/annotations/image_info_test2017.zip).\n",
    "\n",
    "Відкрийте файл image_info_test-dev2017.json. Інформація про фотографії з бази COCO міститься у полі \"images\". Інформація про категорії, на які розділені всі фотографії, міститься у полі \"categories\".\n",
    "\n",
    "1. Визначте кількість фотографій, інформацію про які можна знайти у цьому файлі (кількість елементів, що відповідають ключу \"images\").\n",
    "\n",
    "2. Визначте кількість наявних категорій (кількість елементів, що відповідають ключу \"categories\").\n",
    "\n",
    "3. Виведіть посилання на фотографію 000000000001.jpg (\"coco_url\"). Також виведіть висоту цієї фотографії (\"height\"), ширину (\"width\") та її ідентифікатор (\"id\").\n",
    "\n",
    "4. Виведіть назву фотографії з набільшим номером.\n",
    "\n",
    "Опис структури JSON-файлу для набору фотографій COCO можна знайти за посиланням: [Data format](https://cocodataset.org/#format-data).\n",
    "\n",
    "Щоб перевірити правильність результатів, у VS Code встановіть розширення JSON та відкрийте файл image_info_test-dev2017.json. Розширення автоматично визначає кількість елементів у кожному полі."
   ]
  },
  {
   "cell_type": "code",
   "execution_count": 50,
   "metadata": {},
   "outputs": [
    {
     "name": "stdout",
     "output_type": "stream",
     "text": [
      "images: 20288, categories: 80\n",
      "\n",
      "Id: 1\n",
      "height: 480, width: 640\n",
      "url: http://images.cocodataset.org/test2017/000000000001.jpg\n",
      "\n",
      "Image with max Id: '000000581918.jpg'\n"
     ]
    }
   ],
   "source": [
    "import json\n",
    "\n",
    "f = open('image_info_test-dev2017.json', 'r')\n",
    "data = json.load(f)\n",
    "\n",
    "image_cnt = len(data['images'])\n",
    "categories_cnt = len(data['categories'])\n",
    "\n",
    "print(f\"images: {image_cnt}, categories: {categories_cnt}\")\n",
    "print()\n",
    "\n",
    "for image in data['images']:\n",
    "    if image['file_name'] == '000000000001.jpg':\n",
    "        print(f\"Id: {image['id']}\")\n",
    "        print(f\"height: {image['height']}, width: {image['width']}\")\n",
    "        print(f\"url: {image['coco_url']}\")\n",
    "\n",
    "print()\n",
    "\n",
    "image_with_max_id = data['images'][0]\n",
    "max_id = data['images'][0]['id']\n",
    "for image in data['images']:\n",
    "    if max_id < image['id']:\n",
    "        max_id = image['id']\n",
    "        image_with_max_id = image\n",
    "\n",
    "print(f\"Image with max Id: '{image_with_max_id['file_name']}'\")\n",
    "\n",
    "f.close()"
   ]
  },
  {
   "cell_type": "code",
   "execution_count": null,
   "metadata": {},
   "outputs": [],
   "source": []
  }
 ],
 "metadata": {
  "colab": {
   "collapsed_sections": [],
   "name": "Practice_14_KM_01.ipynb",
   "provenance": []
  },
  "kernelspec": {
   "display_name": "Python 3 (ipykernel)",
   "language": "python",
   "name": "python3"
  },
  "language_info": {
   "codemirror_mode": {
    "name": "ipython",
    "version": 3
   },
   "file_extension": ".py",
   "mimetype": "text/x-python",
   "name": "python",
   "nbconvert_exporter": "python",
   "pygments_lexer": "ipython3",
   "version": "3.9.12"
  },
  "vscode": {
   "interpreter": {
    "hash": "26de051ba29f2982a8de78e945f0abaf191376122a1563185a90213a26c5da77"
   }
  }
 },
 "nbformat": 4,
 "nbformat_minor": 1
}
