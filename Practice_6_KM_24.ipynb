{
 "cells": [
  {
   "cell_type": "markdown",
   "metadata": {
    "id": "FMqboNwO4rVs"
   },
   "source": [
    "# **Курс \"Програмування на мові Python\"**"
   ]
  },
  {
   "cell_type": "markdown",
   "metadata": {
    "id": "A2T6MigL5Z06"
   },
   "source": [
    "## **Практичне зайняття №6**\n",
    "### Тема: \"Робота з кортежами, множинами та словниками\""
   ]
  },
  {
   "cell_type": "markdown",
   "metadata": {
    "id": "4AV5CN7N4xja"
   },
   "source": [
    "### **Завдання 1 (1,5 бали)**\n",
    "\n",
    "Напишіть програму, яка визначала б, чи можна з літер однієї фрази скласти іншу фразу. Наприклад:\n",
    "\n",
    "\"William Shakespeare\" -> \"A small spark\"\n",
    "\n",
    "Перша фраза містить 11 унікальних літер (хоча деякі повторюються): a, e, h, i, k, l, m, p, r, s та w. Друга фраза містить 7 унікальних літер: a, k, l, m, p, r та s. Кожна з літер другої фрази зустрічається принаймні один раз у першій фразі.\n",
    "\n",
    "1. Обидві фрази повинні вводитись користувачем з клавіатури.\n",
    "\n",
    "2. Скористайтесь властивістю множин у мові програмування Python для виділення колекції унікальних літер.\n",
    "\n",
    "3. У множину не повинні потрапити пробіли, розділові знаки та інші символи, що не є літерами (скористайтесь методом **isalpha()**). Також усі літери мають бути переведені в нижній або верхній регістр (скористайтесь методами **lower()** або **upper()**).\n",
    "\n",
    "4. Зверніть увагу на те, що літери як в першій, так і вдругій фразі можуть повторюватись. Однак множина унікальних літер другої фрази повинна бути підмножиною множини унікальних літер першої фрази.\n",
    "\n",
    "5. У складі змістовного повідомлення програма повинна виводити множину літер першої фрази, множину літер другої фрази, а також змістовне повідомлення про те, чи можна скласти з літер першої фрази другу фразу."
   ]
  },
  {
   "cell_type": "code",
   "execution_count": 20,
   "metadata": {
    "id": "9Mesp1jV4xjb"
   },
   "outputs": [
    {
     "name": "stdout",
     "output_type": "stream",
     "text": [
      "Enter the first phrase: ::PiNeaPPle!!!\n",
      "Enter the second phrase: -Apple?\n",
      "\n",
      "Letters from first phrase: {a, l, e, i, n, p}\n",
      "Letters from second phrase: {p, a, l, e}\n",
      "👍 The first phrase contains all letters from the second phrase.\n"
     ]
    }
   ],
   "source": [
    "phrase_1 = input('Enter the first phrase: ')\n",
    "phrase_2 = input('Enter the second phrase: ')\n",
    "\n",
    "phrase_1 = phrase_1.lower()\n",
    "phrase_2 = phrase_2.lower()\n",
    "\n",
    "set_1 = set(phrase_1)\n",
    "set_2 = set(phrase_2)\n",
    "\n",
    "set_1 = set(filter(lambda x: x.isalpha(), set_1))\n",
    "set_2 = set(filter(lambda x: x.isalpha(), set_2))\n",
    "\n",
    "\n",
    "print()\n",
    "print(f\"Letters from first phrase: \", end = \"\")\n",
    "print(\"{\" + ', '.join(set_1) + \"}\")\n",
    "\n",
    "print(f\"Letters from second phrase: \", end = \"\")\n",
    "print(\"{\" + ', '.join(set_2) + \"}\")\n",
    "\n",
    "if set_2.intersection(set_1) == set_2:\n",
    "    print(f\"{chr(128077)} The first phrase contains all letters from the second phrase.\")\n",
    "else:\n",
    "    print(f\"{chr(128078)} The first phrase doesn't contain all letters from the second phrase.\")"
   ]
  },
  {
   "cell_type": "markdown",
   "metadata": {
    "id": "y7pQFLvSCkym"
   },
   "source": [
    "### **Завдання 2 (1,5 бали)**\n",
    "\n",
    "У Канаді поштові індекси мають специфічну форму. Вони складаються з трьох символів. Перший символ вказує на провінцію. Другий символ вказує на те, у міській чи у сільській місцевості знаходиться адресат. Якщо у сільській місцевості - це 0. Якщо у міській - будь-яка інша цифра. Провінція позначається великою латинською літерою. Повний перелік провінцій на літер, що їм відповідають, подано у таблиці.\n",
    "\n",
    "Провінція | Перший символ поштового індекса\n",
    "--- | ---\n",
    "Newfoundland | A\n",
    "Nova Scotia | B\n",
    "Prince Edward Island | C\n",
    "New Brunswick | E\n",
    "Quebec | G, H and J\n",
    "Ontario | K, L, M, N and P\n",
    "Manitoba | R\n",
    "Saskatchewan | S\n",
    "Alberta | T\n",
    "British Columbia | V\n",
    "Nunavut | X\n",
    "Northwest Territories | X\n",
    "Yukon | Y\n",
    "\n",
    "Напишіть програму, яка зчитує поштовий індекс, введений користувачем, та виводить у складі змістовного повідомлення провінцію адресата та інформацію про те, у міській чи у сільській місцевості він знаходиться. Наприклад, якщо користувач вводить T2N, програма повинна визначити, що адресат знаходиться у міській місцевості провінції Альберта. Якщо він вводить X0A, адресат знаходиться у сільській місцевості провінції Нанавут або Північних Територій (зверніть увагу на те, що літера X повторюється для двох провінцій). Третя літера для нас неважлива. Зауважте, що літери D, F, I, O, Q, U, W, та Z не позначають жодної з провінцій Канади.\n",
    "\n",
    "1. Скористайтесь словником для збереження усіх провінцій та літер, що їм відповідають.\n",
    "\n",
    "2. Користувач повинен ввести рівно 3 символи. Перший і останній символи мають бути літерами, другий - цифрою. Для перевірки скористайтесь методами **isalpha()** та **isdigit()**. Якщо користувач введе не 3 символи, а більше чи менше, або ж послідовність літер та цифр не буде співпадати з шаблоном, програма має вивести повідомлення про помилку.\n",
    "\n",
    "3. Програма повинна приймати літери як верхнього, так і нижнього регістрів. Однак виводити - лише у верхньому регістрі (скористайтесь методами **lower()** або **upper()**)."
   ]
  },
  {
   "cell_type": "code",
   "execution_count": 40,
   "metadata": {
    "id": "EVY800vg4xjg"
   },
   "outputs": [
    {
     "name": "stdout",
     "output_type": "stream",
     "text": [
      "Enter the zip code: XOA\n",
      "Incorrect input! Please, try again.\n",
      "Enter the zip code: X0A\n",
      "\n",
      "THE ADDRESSEE IS LOCATED IN VILLAGE IN NUNAVUT OR NORTHWEST TERRITORIES\n"
     ]
    }
   ],
   "source": [
    "end = False\n",
    "while (not end):\n",
    "    try:\n",
    "        zip_code = input('Enter the zip code: ')\n",
    "    except:\n",
    "        print('Incorrect input! Please, try again.')\n",
    "    else:\n",
    "        if len(zip_code) == 3:\n",
    "            \n",
    "            if (zip_code[0].isalpha()) and (zip_code[1].isdigit()) and (zip_code[2].isalpha()):\n",
    "                end = True\n",
    "            else:\n",
    "                print('Incorrect input! Please, try again.')\n",
    "                \n",
    "        else:\n",
    "            print('Incorrect input! Please, try again.')\n",
    "\n",
    "\n",
    "zip_code = zip_code.upper()\n",
    "\n",
    "provinces = {\n",
    "    'A': 'Newfoundland',\n",
    "    'B': 'Nova Scotia',\n",
    "    'C': 'Prince Edward Island',\n",
    "    'E': 'New Brunswick',\n",
    "    'G': 'Quebec',\n",
    "    'H': 'Quebec',\n",
    "    'J': 'Quebec',\n",
    "    'K': 'Ontario',\n",
    "    'L': 'Ontario',\n",
    "    'M': 'Ontario',\n",
    "    'N': 'Ontario',\n",
    "    'P': 'Ontario',\n",
    "    'R': 'Manitoba',\n",
    "    'S': 'Saskatchewan',\n",
    "    'T': 'Alberta',\n",
    "    'V': 'British Columbia',\n",
    "    'X': ['Nunavut', 'Northwest Territories'],\n",
    "    'Y': 'Yukon',\n",
    "}\n",
    "\n",
    "\n",
    "province = provinces.get(zip_code[0], None)\n",
    "\n",
    "locality = 'village' if zip_code[1] == '0' else 'city'\n",
    "\n",
    "\n",
    "print()\n",
    "if province == None:\n",
    "    print(f\"Unknown location {chr(128169)}\".upper())\n",
    "elif type(province) == str:\n",
    "    print(f\"The addressee is located in {locality} in {province}\".upper())\n",
    "else:\n",
    "    print(f\"The addressee is located in {locality} in {province[0]} or {province[1]}\".upper())"
   ]
  }
 ],
 "metadata": {
  "colab": {
   "collapsed_sections": [],
   "name": "Practice_5_KM_04_.ipynb",
   "provenance": []
  },
  "kernelspec": {
   "display_name": "Python 3 (ipykernel)",
   "language": "python",
   "name": "python3"
  },
  "language_info": {
   "codemirror_mode": {
    "name": "ipython",
    "version": 3
   },
   "file_extension": ".py",
   "mimetype": "text/x-python",
   "name": "python",
   "nbconvert_exporter": "python",
   "pygments_lexer": "ipython3",
   "version": "3.9.12"
  }
 },
 "nbformat": 4,
 "nbformat_minor": 2
}
